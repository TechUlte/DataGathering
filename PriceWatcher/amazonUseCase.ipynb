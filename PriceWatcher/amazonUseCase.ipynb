{
 "metadata": {
  "language_info": {
   "codemirror_mode": {
    "name": "ipython",
    "version": 3
   },
   "file_extension": ".py",
   "mimetype": "text/x-python",
   "name": "python",
   "nbconvert_exporter": "python",
   "pygments_lexer": "ipython3",
   "version": "3.8.5"
  },
  "orig_nbformat": 2,
  "kernelspec": {
   "name": "python385jvsc74a57bd0916dbcbb3f70747c44a77c7bcd40155683ae19c65e1c03b4aa3499c5328201f1",
   "display_name": "Python 3.8.5 64-bit"
  },
  "metadata": {
   "interpreter": {
    "hash": "916dbcbb3f70747c44a77c7bcd40155683ae19c65e1c03b4aa3499c5328201f1"
   }
  }
 },
 "nbformat": 4,
 "nbformat_minor": 2,
 "cells": [
  {
   "cell_type": "code",
   "execution_count": 20,
   "metadata": {},
   "outputs": [
    {
     "output_type": "stream",
     "name": "stdout",
     "text": [
      "149,99 €\n"
     ]
    }
   ],
   "source": [
    "# watch a simple product\n",
    "from gazpacho import get, Soup\n",
    "url = \"https://www.amazon.fr/gp/product/B07TD2N9YC?pf_rd_r=RKYKTZTPT1P6M561M4SM&pf_rd_p=ed1ef413-005c-474d-837a-434c7d76d0d9&pd_rd_r=a5a6e28f-200a-44f2-a84f-cde7796d9655&pd_rd_w=nijRM&pd_rd_wg=WzXw9&ref_=pd_gw_unk\"\n",
    "html = get(url)\n",
    "soup = Soup(html)\n",
    "priceSpan = soup.find(\"span\",{\"id\":\"priceblock_ourprice\"})\n",
    "price = priceSpan.text\n",
    "print(price)"
   ]
  },
  {
   "cell_type": "code",
   "execution_count": 19,
   "metadata": {
    "tags": []
   },
   "outputs": [
    {
     "output_type": "stream",
     "name": "stdout",
     "text": [
      "122,23 €\n"
     ]
    }
   ],
   "source": [
    "# watch a discounted product\n",
    "from gazpacho import get, Soup\n",
    "url = \"https://www.amazon.fr/gp/product/B085DPPFT9/ref=ppx_yo_dt_b_asin_title_o00_s00?ie=UTF8&th=1\"\n",
    "html = get(url)\n",
    "soup = Soup(html)\n",
    "priceSpan = soup.find(\"span\",{\"id\":\"priceblock_dealprice\"})\n",
    "price = priceSpan.text\n",
    "print(price)"
   ]
  }
 ]
}